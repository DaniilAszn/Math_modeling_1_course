{
  "nbformat": 4,
  "nbformat_minor": 0,
  "metadata": {
    "colab": {
      "provenance": [],
      "authorship_tag": "ABX9TyPqHpBzYeTz5mzxmlHyftd6",
      "include_colab_link": true
    },
    "kernelspec": {
      "name": "python3",
      "display_name": "Python 3"
    },
    "language_info": {
      "name": "python"
    }
  },
  "cells": [
    {
      "cell_type": "markdown",
      "metadata": {
        "id": "view-in-github",
        "colab_type": "text"
      },
      "source": [
        "<a href=\"https://colab.research.google.com/github/DaniilAszn/Math_modeling_1_course/blob/main/Quadratic_equations.ipynb\" target=\"_parent\"><img src=\"https://colab.research.google.com/assets/colab-badge.svg\" alt=\"Open In Colab\"/></a>"
      ]
    },
    {
      "cell_type": "markdown",
      "source": [
        "# **Нахождение корней квадратного уравнения**"
      ],
      "metadata": {
        "id": "pZaBxQfq0GO-"
      }
    },
    {
      "cell_type": "markdown",
      "source": [
        "$ax^2 + bx + c = 0$ (1)\n",
        "\n",
        "$x_{1, 2} = \\frac{-b \\pm \\sqrt{b^2 - 4ac}}{2a}$"
      ],
      "metadata": {
        "id": "yjUARxko3h05"
      }
    },
    {
      "cell_type": "markdown",
      "source": [
        "### Задание\n",
        "\n",
        "1. Написать программу для решения квадратного уравнение вида (1) по\n",
        "приведенной выше блок-схеме (коэффициенты $a, b, c$ вводятся вручную).\n",
        "2. Определить программными средствами, является ли заданное число а\n",
        "степенью числа 3 (число а вводится вручную). То есть является ли число $a$\n",
        "равным $3^n$"
      ],
      "metadata": {
        "id": "Hb_qZoRW0NAa"
      }
    },
    {
      "cell_type": "markdown",
      "source": [
        "$ax^2 + bx + c = 0, a \\not= 0$\n",
        "\n",
        "$\\frac{ax^2}{a} + \\frac{bx}{a} + \\frac{c}{a} = \\frac{0}{a}$\n",
        "\n",
        "$x^2 + \\frac{b}{a}x + \\frac{c}{a} = 0$\n",
        "\n",
        "$x^2 + 2\\cdot\\frac{1}{2}\\frac{b}{a}x + (\\frac{b}{2a})^2 - (\\frac{b}{2a})^2 + \\frac{c}{a} = 0$\n",
        "\n",
        "$(x + \\frac{b}{2a})^2 - \\frac{b^2}{4a^2} + \\frac{c}{a} = 0$\n",
        "\n",
        "$(x + \\frac{b}{2a})^2 = \\frac{b^2}{4a^2} - \\frac{c}{a} = \\frac{b^2 - 4ac}{4a^2}$\n",
        "\n",
        "$D = b^2 - 4ac$\n",
        "\n",
        "$1) D > 0:$\n",
        "\n",
        "$(x + \\frac{b}{2a})^2 = \\frac{D}{4a^2}$\n",
        "\n",
        "$(x + \\frac{b}{2a})^2 = (\\sqrt\\frac{D}{4a^2})^2$\n",
        "\n",
        "$(x + \\frac{b}{2a})^2 = (\\frac{\\sqrt D}{2a})^2$\n",
        "\n",
        "$(x + \\frac{b}{2a} - \\frac{\\sqrt D}{2a})(x + \\frac{b}{2a} + \\frac{\\sqrt D}{2a}) = 0$\n",
        "\n",
        "$(x + \\frac{b - \\sqrt D}{2a})(x + \\frac{b + \\sqrt D}{2a}) = 0$\n",
        "\n",
        "$x_{1, 2} = \\frac{-b \\pm \\sqrt{D}}{2a}$\n",
        "\n",
        "$2) D = 0:$\n",
        "\n",
        "$(x + \\frac{b}{2a})^2 = 0$\n",
        "\n",
        "$x = \\frac{-b}{2a}$\n",
        "\n",
        "$3) D < 0:$\n",
        "\n",
        "$x \\not\\in R$\n",
        "\n",
        "$x \\in C$\n",
        "\n",
        "$(x + \\frac{b}{2a})^2 = \\frac{D}{4a^2}$\n",
        "\n",
        "$x + \\frac{b}{2a} = \\pm\\sqrt\\frac{D}{4a^2}i$\n",
        "\n",
        "$x = -\\frac{b}{2a} \\pm\\frac{\\sqrt D}{2a}i$\n",
        "\n",
        "$x_{1, 2} = \\frac{-b \\pm \\sqrt Di}{2a}$"
      ],
      "metadata": {
        "id": "uwZyggq70wmP"
      }
    },
    {
      "cell_type": "code",
      "execution_count": 3,
      "metadata": {
        "colab": {
          "base_uri": "https://localhost:8080/"
        },
        "id": "k4UJb7YTzUbt",
        "outputId": "657f1bf8-0acc-4139-f176-aa7b598d0ee5"
      },
      "outputs": [
        {
          "output_type": "stream",
          "name": "stdout",
          "text": [
            "Введите коэффициенты a, b, c: 1 -3 2\n",
            "x1 = 2.0, x2 = 1.0\n"
          ]
        }
      ],
      "source": [
        "import math as m\n",
        "\n",
        "a, b, c = map(int, input('Введите коэффициенты a, b, c: ').split())\n",
        "\n",
        "if a != 0:\n",
        "    D = b ** 2 - 4 * a * c\n",
        "    if D >= 0:\n",
        "        x1 = (- b + m.sqrt(D)) / (2 * a)\n",
        "        x2 = (- b - m.sqrt(D)) / (2 * a)\n",
        "        if x1 == x2:\n",
        "            print(f'x0 = {x1}')\n",
        "        else:\n",
        "            print(f'x1 = {x1}, x2 = {x2}')\n",
        "    else:\n",
        "        print('Мы работаем в поле вещественных чисел!')\n",
        "else:\n",
        "    if b != 0:\n",
        "        x = -c / b\n",
        "        print(f'x = {x}')\n",
        "    else:\n",
        "        if c != 0:\n",
        "            print('Пустое множество')\n",
        "        else:\n",
        "            print('R')"
      ]
    },
    {
      "cell_type": "code",
      "source": [
        "if a > 0:\n",
        "    n = m.log(a, 3)\n",
        "    if n % 1 == 0:\n",
        "        print(f'{a} - степень числа 3')\n",
        "    else:\n",
        "        print(f'{a} - не является степенью числа 3')\n",
        "else:\n",
        "    print('Область определения логарифма больше нуля!')"
      ],
      "metadata": {
        "colab": {
          "base_uri": "https://localhost:8080/"
        },
        "id": "_Lst9B1P1-vb",
        "outputId": "5c023fcb-9e38-4b19-e5b2-236c13d68abd"
      },
      "execution_count": 4,
      "outputs": [
        {
          "output_type": "stream",
          "name": "stdout",
          "text": [
            "1 - степень числа 3\n"
          ]
        }
      ]
    }
  ]
}