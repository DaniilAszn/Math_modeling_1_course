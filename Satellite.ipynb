{
  "nbformat": 4,
  "nbformat_minor": 0,
  "metadata": {
    "colab": {
      "provenance": [],
      "authorship_tag": "ABX9TyN6JZ0EL+KjQN++tigC8Wy4",
      "include_colab_link": true
    },
    "kernelspec": {
      "name": "python3",
      "display_name": "Python 3"
    },
    "language_info": {
      "name": "python"
    }
  },
  "cells": [
    {
      "cell_type": "markdown",
      "metadata": {
        "id": "view-in-github",
        "colab_type": "text"
      },
      "source": [
        "<a href=\"https://colab.research.google.com/github/DaniilAszn/Math_modeling_1_course/blob/main/Satellite.ipynb\" target=\"_parent\"><img src=\"https://colab.research.google.com/assets/colab-badge.svg\" alt=\"Open In Colab\"/></a>"
      ]
    },
    {
      "cell_type": "markdown",
      "source": [
        "# **Модель спутника**"
      ],
      "metadata": {
        "id": "bxQSXiUxcngx"
      }
    },
    {
      "cell_type": "markdown",
      "source": [
        "$v = \\sqrt{R \\cdot g}$\n",
        "\n",
        "$h = R_з - \\frac{R^2_з}{R_л}$\n",
        "\n",
        "$S_{сек} = 2\\pi \\cdot R_з \\cdot h$\n",
        "\n",
        "$S = 4\\pi \\cdot R^2$\n",
        "\n",
        "Число спутников = $\\frac{S}{S_{сек}}$ (округлённое вверх + 1)"
      ],
      "metadata": {
        "id": "5A0fTnlzew_o"
      }
    },
    {
      "cell_type": "markdown",
      "source": [
        "### Задание\n",
        "1. Используя приведенные формулы написать программу расчета высоты геостационарного спутника Земли и количества таких спутников для покрытия земной поверхности.\n",
        "2. Написать программу расчета высоты геостационарного спутника для Марса и Венеры.\n"
      ],
      "metadata": {
        "id": "Ff8Oyqfmc0_X"
      }
    },
    {
      "cell_type": "code",
      "source": [
        "import numpy as np"
      ],
      "metadata": {
        "id": "1duTURDsfpTn"
      },
      "execution_count": 86,
      "outputs": []
    },
    {
      "cell_type": "code",
      "source": [
        "def calculate_surface_area(R, g, T, R_l):\n",
        "    v = np.round(np.sqrt(R * g * 1000) / 1000)\n",
        "    h = np.round((np.round(pow(T * 60 * 60 * R * 1000 * np.sqrt(g) / (2 * np.pi), 2 / 3), 0) - R * 1000) / 1000, 0)\n",
        "\n",
        "    print(f'Высота: {h}')\n",
        "\n",
        "    h = R_earth - R_earth ** 2 / R_l\n",
        "    S_sec = 2 * np.pi * R * h\n",
        "    S = 4 * np.pi * R ** 2\n",
        "\n",
        "    return np.ceil(S / S_sec) + 1\n",
        "\n",
        "\n",
        "R_l = 384467\n",
        "R_m = 55760000\n",
        "R_v = 149500000\n",
        "\n",
        "R_earth = 6300\n",
        "g_earth = 9.8\n",
        "T_earth = 24\n",
        "print(\"Число спутников для Земли:\", calculate_surface_area(R_earth, g_earth, T_earth, R_l))\n",
        "\n",
        "R_mars = 3389.5\n",
        "g_mars = 3.7\n",
        "T_mars = 24.6\n",
        "print(\"Число спутников для Марса:\", calculate_surface_area(R_mars, g_mars, T_mars, R_v))\n",
        "\n",
        "R_venus = 6051.8\n",
        "g_venus = 8.87\n",
        "T_venus = 243\n",
        "print(\"Число спутников для Венеры:\", calculate_surface_area(R_venus, g_venus, T_venus, R_m))"
      ],
      "metadata": {
        "colab": {
          "base_uri": "https://localhost:8080/"
        },
        "id": "5jRHrmAmgSn1",
        "outputId": "f0aff2c2-0a50-472c-b248-f43ccb12321e"
      },
      "execution_count": 87,
      "outputs": [
        {
          "output_type": "stream",
          "name": "stdout",
          "text": [
            "Высота: 35598.0\n",
            "Число спутников для Земли: 4.0\n",
            "Высота: 16974.0\n",
            "Число спутников для Марса: 3.0\n",
            "Высота: 178613.0\n",
            "Число спутников для Венеры: 3.0\n"
          ]
        }
      ]
    }
  ]
}