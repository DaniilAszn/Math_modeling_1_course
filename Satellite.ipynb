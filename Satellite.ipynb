{
  "nbformat": 4,
  "nbformat_minor": 0,
  "metadata": {
    "colab": {
      "provenance": [],
      "authorship_tag": "ABX9TyO0Xc3Zdm5Gtjg47r0TRGnN",
      "include_colab_link": true
    },
    "kernelspec": {
      "name": "python3",
      "display_name": "Python 3"
    },
    "language_info": {
      "name": "python"
    }
  },
  "cells": [
    {
      "cell_type": "markdown",
      "metadata": {
        "id": "view-in-github",
        "colab_type": "text"
      },
      "source": [
        "<a href=\"https://colab.research.google.com/github/DaniilAszn/Math_modeling_1_course/blob/main/Satellite.ipynb\" target=\"_parent\"><img src=\"https://colab.research.google.com/assets/colab-badge.svg\" alt=\"Open In Colab\"/></a>"
      ]
    },
    {
      "cell_type": "markdown",
      "source": [
        "# **Модель спутника**"
      ],
      "metadata": {
        "id": "bxQSXiUxcngx"
      }
    },
    {
      "cell_type": "markdown",
      "source": [
        "### Задание\n",
        "1. Написать программу расчета высоты геостационарного спутника Земли и количества таких спутников для покрытия земной поверхности.\n",
        "2. Написать программу расчета высоты геостационарного спутника для Марса и Венеры.\n"
      ],
      "metadata": {
        "id": "Ff8Oyqfmc0_X"
      }
    },
    {
      "cell_type": "code",
      "source": [
        "import math as m"
      ],
      "metadata": {
        "id": "1duTURDsfpTn"
      },
      "execution_count": 102,
      "outputs": []
    },
    {
      "cell_type": "code",
      "source": [
        "def height(T, R, g):\n",
        "    r = ((T * R * m.sqrt(g)) / (2 * m.pi)) ** (2 / 3)\n",
        "    return round((r - R) / 1000)\n",
        "\n",
        "\n",
        "def count_of_Satellite(T, R, g):\n",
        "    r = ((T * R * m.sqrt(g)) / (2 * m.pi)) ** (2 / 3)\n",
        "    return m.ceil((4 * m.pi * R ** 2) / (2 * m.pi * R * (R - R ** 2 / r)))\n",
        "\n",
        "\n",
        "T_Earth = 86400\n",
        "R_Earth = 6371.000 * 1000\n",
        "g_Earth = 10\n",
        "\n",
        "print(f'Спутник для Земли расположен на высоте {height(T_Earth, R_Earth, g_Earth)} км')\n",
        "print(f'Количество спутников: {count_of_Satellite(T_Earth, R_Earth, g_Earth)}')\n",
        "\n",
        "\n",
        "T_Mars = 88740\n",
        "R_Mars = 3389.500 * 1000\n",
        "g_Mars = 3.711\n",
        "\n",
        "print(f'Спутник для Марса расположен на высоте {height(T_Mars, R_Mars, g_Mars)} км')\n",
        "print(f'Количество спутников: {count_of_Satellite(T_Mars, R_Mars, g_Mars)}')\n",
        "\n",
        "\n",
        "T_Venus = 20995200\n",
        "R_Venus = 6051.800 * 1000\n",
        "g_Venus = 8.87\n",
        "\n",
        "print(f'Спутник для Венеры расположен на высоте {height(T_Venus, R_Venus, g_Venus)} км')\n",
        "print(f'Количество спутников: {count_of_Satellite(T_Venus, R_Venus, g_Venus)}')"
      ],
      "metadata": {
        "colab": {
          "base_uri": "https://localhost:8080/"
        },
        "id": "LI7VZTgl0hfW",
        "outputId": "5fb754ed-0f65-4418-e340-f7afd8d2875e"
      },
      "execution_count": 105,
      "outputs": [
        {
          "output_type": "stream",
          "name": "stdout",
          "text": [
            "Спутник для Земли расположен на высоте 36126 км\n",
            "Количество спутников: 3\n",
            "Спутник для Марса расположен на высоте 17022 км\n",
            "Количество спутников: 3\n",
            "Спутник для Венеры расположен на высоте 1530419 км\n",
            "Количество спутников: 3\n"
          ]
        }
      ]
    }
  ]
}