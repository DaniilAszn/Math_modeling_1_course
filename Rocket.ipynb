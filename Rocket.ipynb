{
  "nbformat": 4,
  "nbformat_minor": 0,
  "metadata": {
    "colab": {
      "provenance": [],
      "authorship_tag": "ABX9TyPIfmRoHcXcToHaEDLaUbjV",
      "include_colab_link": true
    },
    "kernelspec": {
      "name": "python3",
      "display_name": "Python 3"
    },
    "language_info": {
      "name": "python"
    }
  },
  "cells": [
    {
      "cell_type": "markdown",
      "metadata": {
        "id": "view-in-github",
        "colab_type": "text"
      },
      "source": [
        "<a href=\"https://colab.research.google.com/github/DaniilAszn/Math_modeling_1_course/blob/main/Rocket.ipynb\" target=\"_parent\"><img src=\"https://colab.research.google.com/assets/colab-badge.svg\" alt=\"Open In Colab\"/></a>"
      ]
    },
    {
      "cell_type": "markdown",
      "source": [
        "# **Модель ракеты**"
      ],
      "metadata": {
        "id": "01mUmv6G590-"
      }
    },
    {
      "cell_type": "markdown",
      "source": [
        "Уравнения для двухступенчатой ракеты:\n",
        "\n",
        "$V_1(t) = U \\cdot \\ln(\\frac{M_1 + M_2 + M_p}{\\lambda \\cdot M_1 + M_2 + M_p})$\n",
        "\n",
        "$V_2(t) = V_1 + U \\cdot \\ln(\\frac{M_2 + M_p}{\\lambda \\cdot M_2 + M_p})$"
      ],
      "metadata": {
        "id": "tnuOh4eV7mzK"
      }
    },
    {
      "cell_type": "markdown",
      "source": [
        "Уравнения для двухступенчатой ракеты:\n",
        "\n",
        "$V_1(t) = U \\cdot \\ln(\\frac{M_1 + M_2 + M_3 + M_p}{\\lambda \\cdot M_1 + M_2 + M_3 + M_p})$\n",
        "\n",
        "$V_2(t) = V_1 + U \\cdot \\ln(\\frac{M_2 + M_3 + M_p}{\\lambda \\cdot M_2 + M_3 + M_p})$\n",
        "\n",
        "$V_3(t) = V_2 + U \\cdot \\ln(\\frac{M_3 + M_p}{\\lambda \\cdot M_3 + M_p})$\n",
        "\n",
        "$V_3(t) = U \\cdot \\ln(\\frac{M_1 + M_2 + M_3 + M_p}{\\lambda \\cdot M_1 + M_2 + M_3 + M_p}) + U \\cdot \\ln(\\frac{M_2 + M_3 + M_p}{\\lambda \\cdot M_2 + M_3 + M_p}) + U \\cdot \\ln(\\frac{M_3 + M_p}{\\lambda \\cdot M_3 + M_p})$"
      ],
      "metadata": {
        "id": "7KERVIb28VdQ"
      }
    },
    {
      "cell_type": "markdown",
      "source": [
        "### Задание\n",
        "\n",
        "1. Написать программу расчета массы ступеней для двухступенчатой ракеты: $m_p = \\frac{m_0}{20}, V_2(t) = 8 \\frac{км}{с}, U = 3 \\frac{км}{с}, V_1(t) = \\frac{V_2(t)}{2}, \\lambda = 0,1$\n",
        "2. Вывести формулу для трехступенчатой ракеты. Написать программу расчета массы ступеней для трехступенчатой ракеты: $V_3(t) = 8 \\frac{км}{с}, V_1(t) = \\frac{V_2(t)}{2}, V_2(t) = \\frac{V_3(t)}{2}$\n"
      ],
      "metadata": {
        "id": "zOharABi6DPP"
      }
    },
    {
      "cell_type": "code",
      "source": [
        "import math as m"
      ],
      "metadata": {
        "id": "BVl8DPDeANMg"
      },
      "execution_count": 16,
      "outputs": []
    },
    {
      "cell_type": "code",
      "source": [
        "def M_1(V1, M2, Mp, lam, U):\n",
        "    M1 = (m.e ** (V1 / U) * (M2 + Mp) - M2 - Mp) / (1 - lam * m.e ** (V1 / U))\n",
        "    return M1\n",
        "\n",
        "\n",
        "def M_2(V1, V2, Mp, lam, U):\n",
        "    M2 = (m.e ** ((V2 - V1) / U) * Mp - Mp) / (1 - m.e ** ((V2 - V1) / U) * lam)\n",
        "    return M2"
      ],
      "metadata": {
        "id": "N9fS-U68BNWS"
      },
      "execution_count": 17,
      "outputs": []
    },
    {
      "cell_type": "code",
      "source": [
        "Mp = float(input('Введите массу ракеты (Mp): '))"
      ],
      "metadata": {
        "colab": {
          "base_uri": "https://localhost:8080/"
        },
        "id": "vBjRAz7hBiYa",
        "outputId": "8f07d3f9-cca4-473e-87e3-614d33de6de8"
      },
      "execution_count": 18,
      "outputs": [
        {
          "name": "stdout",
          "output_type": "stream",
          "text": [
            "Введите массу ракеты (Mp): 20\n"
          ]
        }
      ]
    },
    {
      "cell_type": "markdown",
      "source": [
        "Двухступенчатая ракета:"
      ],
      "metadata": {
        "id": "zhtx06chBT7v"
      }
    },
    {
      "cell_type": "code",
      "source": [
        "V2 = 8\n",
        "V1 = V2 / 2\n",
        "U = 3\n",
        "lam = 0.1\n",
        "\n",
        "M2 = M_2(V1, V2, Mp, lam, U)\n",
        "M1 = M_1(V1, M2, Mp, lam, U)\n",
        "\n",
        "print('Масса первой ступени:', M1)\n",
        "print('Масса второй ступени:', M2)\n",
        "print('Общая масса:', (M1 + M2 + Mp))"
      ],
      "metadata": {
        "colab": {
          "base_uri": "https://localhost:8080/"
        },
        "id": "qz1LO9MiBQYK",
        "outputId": "bde29d5d-ac99-4452-ac2f-34f526261e94"
      },
      "execution_count": 19,
      "outputs": [
        {
          "output_type": "stream",
          "name": "stdout",
          "text": [
            "Масса первой ступени: 495.26378067037683\n",
            "Масса второй ступени: 90.02637458894297\n",
            "Общая масса: 605.2901552593198\n"
          ]
        }
      ]
    },
    {
      "cell_type": "markdown",
      "source": [
        "Трёхступенчатая ракета:"
      ],
      "metadata": {
        "id": "WSviJRzkBZFd"
      }
    },
    {
      "cell_type": "code",
      "execution_count": 20,
      "metadata": {
        "colab": {
          "base_uri": "https://localhost:8080/"
        },
        "id": "LCUy9IOO5ftv",
        "outputId": "d856b6dc-e163-418d-ea13-4502008eabfa"
      },
      "outputs": [
        {
          "output_type": "stream",
          "name": "stdout",
          "text": [
            "Масса первой ступени: 2319.366506537315\n",
            "Масса второй ступени: 495.26378067037683\n",
            "Масса третьей ступени: 90.02637458894297\n",
            "Общая масса: 2924.656661796635\n"
          ]
        }
      ],
      "source": [
        "V3 = 8\n",
        "V2 = V3 / 2\n",
        "\n",
        "M3 = M_2(V2, V3, Mp, lam, U)\n",
        "M2 = M_1(V2, M3, Mp, lam, U)\n",
        "M1 = M_1(V1, M2, Mp, lam, U)\n",
        "\n",
        "print('Масса первой ступени:', M1)\n",
        "print('Масса второй ступени:', M2)\n",
        "print('Масса третьей ступени:', M3)\n",
        "print('Общая масса:', (M1 + M2 + M3 + Mp))"
      ]
    }
  ]
}