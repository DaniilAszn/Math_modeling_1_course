{
  "nbformat": 4,
  "nbformat_minor": 0,
  "metadata": {
    "colab": {
      "provenance": [],
      "authorship_tag": "ABX9TyMFHnthneBXWcGL8iZPHE03",
      "include_colab_link": true
    },
    "kernelspec": {
      "name": "python3",
      "display_name": "Python 3"
    },
    "language_info": {
      "name": "python"
    }
  },
  "cells": [
    {
      "cell_type": "markdown",
      "metadata": {
        "id": "view-in-github",
        "colab_type": "text"
      },
      "source": [
        "<a href=\"https://colab.research.google.com/github/DaniilAszn/Math_modeling_1_course/blob/main/Plane.ipynb\" target=\"_parent\"><img src=\"https://colab.research.google.com/assets/colab-badge.svg\" alt=\"Open In Colab\"/></a>"
      ]
    },
    {
      "cell_type": "markdown",
      "source": [
        "# **Модель реактивного самолёта**"
      ],
      "metadata": {
        "id": "dQOYWWYyOgz4"
      }
    },
    {
      "cell_type": "markdown",
      "source": [
        "Формула зависимости площади крыла от массы самолёта, угла отклонения крыла от горизонтальной плоскости и скорости самолёта:\n",
        "\n",
        "$S = \\frac{M \\cdot g}{2 \\cdot \\rho \\cdot v^2 \\cdot \\alpha^2}$ (1)"
      ],
      "metadata": {
        "id": "VOvod5KHQkMy"
      }
    },
    {
      "cell_type": "markdown",
      "source": [
        "Формула массы вылетающих газов за 3 $\\frac{км}{с}$:\n",
        "\n",
        "$\\mu = \\frac{2\\rho \\cdot S \\cdot \\alpha^3 \\cdot v^2}{u}$ (2)"
      ],
      "metadata": {
        "id": "dtAzXOBzReEV"
      }
    },
    {
      "cell_type": "markdown",
      "source": [
        "### Задание\n",
        "1. Используя формулу (1) написать программу для расчета параметров реактивного самолета. Необходимо вручную задать три любых параметра из формулы (площадь крыла, скорость, угол отклонения, масса), по которым\n",
        "будет определен 4-й параметр.\n",
        "2. Для полученных значений в задании 1 провести расчет массы вылетающих газов по формуле (2). Скорость выходящих газов брать 3 $\\frac{км}{с}$\n"
      ],
      "metadata": {
        "id": "ERzu629rP6ow"
      }
    },
    {
      "cell_type": "code",
      "execution_count": 1,
      "metadata": {
        "id": "9yO7klNyOamI"
      },
      "outputs": [],
      "source": [
        "import numpy as np"
      ]
    },
    {
      "cell_type": "code",
      "source": [
        "rho = 0.5\n",
        "g = 10\n",
        "\n",
        "SYMBOL = input('Что будем искать: ')\n",
        "\n",
        "if SYMBOL == 'S':\n",
        "    M = input('Введите массу в т: ')\n",
        "    v = input('Введите скорость в км/ч: ')\n",
        "    alpha = input('Введите угол в градусах: ')\n",
        "    alpha = float(alpha)\n",
        "\n",
        "    M = float(M) * 1000\n",
        "    v = float(v) * 1000 / 3600\n",
        "    rad = float(alpha) * np.pi / 180\n",
        "\n",
        "    S = (M * g) / (2 * rho * v ** 2 * rad ** 2)\n",
        "\n",
        "    print(f'Площадь равна {np.round(S, 0)} м^2')\n",
        "\n",
        "    u = 3000\n",
        "    mu = 2 * rho * S * rad ** 3 * v ** 2 / u\n",
        "\n",
        "    print(f'Масса газов: {np.round(mu, 0)} кг')\n",
        "\n",
        "elif SYMBOL == 'M':\n",
        "    S = input('Введите площадь в м^2: ')\n",
        "    v = input('Введите скорость в км/ч: ')\n",
        "    alpha = input('Введите угол в градусах: ')\n",
        "    alpha = float(alpha)\n",
        "\n",
        "    S = float(S)\n",
        "    v = float(v) * 1000 / 3600\n",
        "    rad = float(alpha) * np.pi / 180\n",
        "\n",
        "    M = (S * 2 * rho * v ** 2 * rad ** 2) / g\n",
        "\n",
        "    print(f'Масса равна {np.round(M, 0)} кг')\n",
        "\n",
        "    u = 3000\n",
        "    mu = 2 * rho * S * rad ** 3 * v ** 2 / u\n",
        "\n",
        "    print(f'Масса газов: {np.round(mu, 0)} кг')\n",
        "\n",
        "elif SYMBOL == 'v':\n",
        "    S = input('Введите площадь м^2: ')\n",
        "    M = input('Введите массу в т: ')\n",
        "    alpha = input('Введите угол в градусах: ')\n",
        "    alpha = float(alpha)\n",
        "\n",
        "    S = float(S)\n",
        "    M = float(M) * 1000\n",
        "    rad = float(alpha) * np.pi / 180\n",
        "\n",
        "    v = np.sqrt(M * g / (2 * rho * rad ** 2 * S))\n",
        "\n",
        "    print(f'Скорость равна {np.round(v, 0)} м/c')\n",
        "\n",
        "    u = 3000\n",
        "    mu = 2 * rho * S * rad ** 3 * v ** 2 / u\n",
        "\n",
        "    print(f'Масса газов: {np.round(mu, 0)} кг')\n",
        "\n",
        "elif SYMBOL == 'alpha':\n",
        "    S = input('Введите площадь м^2: ')\n",
        "    M = input('Введите массу в т: ')\n",
        "    v = input('Введите скорость в км/ч: ')\n",
        "\n",
        "    S = float(S)\n",
        "    M = float(M) * 1000\n",
        "    v = float(v) * 1000 / 3600\n",
        "\n",
        "    rad = np.sqrt(M * g / (2 * rho * v ** 2 * S))\n",
        "    alpha = float(rad) * 180 / np.pi\n",
        "\n",
        "    print(f'Угол равен {np.round(alpha, 0)} градусов')\n",
        "\n",
        "    u = 3000\n",
        "    mu = 2 * rho * S * rad ** 3 * v ** 2 / u\n",
        "\n",
        "    print(f'Масса газов: {np.round(mu, 0)} кг')"
      ],
      "metadata": {
        "colab": {
          "base_uri": "https://localhost:8080/"
        },
        "id": "nj8p3XQgSFa-",
        "outputId": "c5d73422-b465-4068-ef51-a207d72e764b"
      },
      "execution_count": 30,
      "outputs": [
        {
          "output_type": "stream",
          "name": "stdout",
          "text": [
            "Что будем искать: alpha\n",
            "Введите площадь м^2: 4202\n",
            "Введите массу в т: 200\n",
            "Введите скорость в км/ч: 900\n",
            "Угол равен 5.0 градусов\n",
            "Масса газов: 58.0 кг\n"
          ]
        }
      ]
    }
  ]
}