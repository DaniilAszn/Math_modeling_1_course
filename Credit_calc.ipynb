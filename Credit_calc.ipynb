{
  "nbformat": 4,
  "nbformat_minor": 0,
  "metadata": {
    "colab": {
      "provenance": [],
      "authorship_tag": "ABX9TyNxTA3T8UySxrVtp2cqq+ma",
      "include_colab_link": true
    },
    "kernelspec": {
      "name": "python3",
      "display_name": "Python 3"
    },
    "language_info": {
      "name": "python"
    }
  },
  "cells": [
    {
      "cell_type": "markdown",
      "metadata": {
        "id": "view-in-github",
        "colab_type": "text"
      },
      "source": [
        "<a href=\"https://colab.research.google.com/github/DaniilAszn/Math_modeling_1_course/blob/main/Credit_calc.ipynb\" target=\"_parent\"><img src=\"https://colab.research.google.com/assets/colab-badge.svg\" alt=\"Open In Colab\"/></a>"
      ]
    },
    {
      "cell_type": "markdown",
      "source": [
        "# **Модель кредитования**"
      ],
      "metadata": {
        "id": "HarqbbS7ISS2"
      }
    },
    {
      "cell_type": "markdown",
      "source": [
        "### Задание\n",
        "\n",
        "Написать программу \"Ипотечный калькулятор\"\n",
        "\n",
        "Входные данные:\n",
        "* Сумма кредита - Q;\n",
        "* Количество лет, на которые берётся кредит - n;\n",
        "* Годовая процентная ставка - p.\n",
        "\n",
        "Выходные данные: таблица с колонками (период (один месяц), задолженность на начало периода, ежемесячный платёж, остаток по задолженности)\n"
      ],
      "metadata": {
        "id": "srWKIkugJOuB"
      }
    },
    {
      "cell_type": "code",
      "execution_count": 6,
      "metadata": {
        "colab": {
          "base_uri": "https://localhost:8080/"
        },
        "id": "LTMQ40zKD7cE",
        "outputId": "119ca451-cc0b-4a15-c3a9-13b951defd19"
      },
      "outputs": [
        {
          "output_type": "stream",
          "name": "stdout",
          "text": [
            "     Месяц  Долг в начале месяца        Платёж  Остаток по задолженности\n",
            "0        1        1000000.000000  13215.073688             995118.259645\n",
            "1        2         995118.259645  13215.073688             990195.838121\n",
            "2        3         990195.838121  13215.073688             985232.396417\n",
            "3        4         985232.396417  13215.073688             980227.592699\n",
            "4        5         980227.592699  13215.073688             975181.082283\n",
            "..     ...                   ...           ...                       ...\n",
            "115    116          64455.076788  13215.073688              51777.128739\n",
            "116    117          51777.128739  13215.073688              38993.531124\n",
            "117    118          38993.531124  13215.073688              26103.403529\n",
            "118    119          26103.403529  13215.073688              13105.858203\n",
            "119    120          13105.858203  13215.073688                  0.000000\n",
            "\n",
            "[120 rows x 4 columns]\n"
          ]
        }
      ],
      "source": [
        "import pandas as pd\n",
        "\n",
        "def Credit_calc(Q, n, p):\n",
        "    r = Q * p / 12 / (1 - (1 + p / 12) ** (- n * 12))\n",
        "\n",
        "    data = {\n",
        "        'Месяц': [],\n",
        "        'Долг в начале месяца': [],\n",
        "        'Платёж': [],\n",
        "        'Остаток по задолженности': []\n",
        "        }\n",
        "\n",
        "    debt = Q\n",
        "    for i in range(1, n * 12 + 1):\n",
        "        interest_payment = debt * p / 12\n",
        "        principal_payment = r - interest_payment\n",
        "\n",
        "        data['Месяц'].append(round(i, 7))\n",
        "        data['Долг в начале месяца'].append(round(debt, 7))\n",
        "        data['Платёж'].append(round(r, 7))\n",
        "        data['Остаток по задолженности'].append(abs(round(debt - principal_payment, 7)))\n",
        "\n",
        "        debt -= principal_payment\n",
        "\n",
        "    df = pd.DataFrame(data)\n",
        "\n",
        "    return df\n",
        "\n",
        "# Q = float(input(\"Введите сумму кредита: \"))\n",
        "# n = int(input(\"Введите количество лет, на которые берется кредит: \"))\n",
        "# p = float(input(\"Введите годовую процентную ставку (например, 0.05 для 5%): \"))\n",
        "\n",
        "result = Credit_calc(1000000, 10, 0.1)\n",
        "print(result)\n"
      ]
    }
  ]
}